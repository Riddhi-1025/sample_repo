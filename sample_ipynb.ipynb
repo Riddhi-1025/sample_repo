{
 "cells": [
  {
   "cell_type": "code",
   "execution_count": 1,
   "id": "8a17a13a",
   "metadata": {},
   "outputs": [
    {
     "name": "stdout",
     "output_type": "stream",
     "text": [
      "Hello World\n"
     ]
    }
   ],
   "source": [
    "print(\"Hello World\")"
   ]
  },
  {
   "cell_type": "code",
   "execution_count": 2,
   "id": "acce38ef",
   "metadata": {},
   "outputs": [
    {
     "name": "stdout",
     "output_type": "stream",
     "text": [
      "Riddhi\n"
     ]
    }
   ],
   "source": [
    "print(\"Riddhi\")"
   ]
  },
  {
   "cell_type": "code",
   "execution_count": 3,
   "id": "0ad66ea1",
   "metadata": {},
   "outputs": [
    {
     "name": "stdout",
     "output_type": "stream",
     "text": [
      "DataScienceTestFile\n"
     ]
    }
   ],
   "source": [
    "print(\"DataScienceTestFile\")"
   ]
  },
  {
   "cell_type": "code",
   "execution_count": null,
   "id": "63eef733",
   "metadata": {},
   "outputs": [],
   "source": []
  }
 ],
 "metadata": {
  "kernelspec": {
   "display_name": "Python 3 (ipykernel)",
   "language": "python",
   "name": "python3"
  },
  "language_info": {
   "codemirror_mode": {
    "name": "ipython",
    "version": 3
   },
   "file_extension": ".py",
   "mimetype": "text/x-python",
   "name": "python",
   "nbconvert_exporter": "python",
   "pygments_lexer": "ipython3",
   "version": "3.9.7"
  }
 },
 "nbformat": 4,
 "nbformat_minor": 5
}
